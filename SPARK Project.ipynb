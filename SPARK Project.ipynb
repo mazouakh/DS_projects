{
  "cells": [
    {
      "cell_type": "markdown",
      "metadata": {
        "id": "vhvKmXI_ifgE"
      },
      "source": [
        "# SPARK Homework"
      ]
    },
    {
      "cell_type": "code",
      "source": [
        "!sudo apt update\n",
        "!apt-get install openjdk-8-jdk-headless -qq > /dev/null\n",
        "#Check this site for the latest download link https://www.apache.org/dyn/closer.lua/spark/spark-3.2.1/spark-3.2.1-bin-hadoop3.2.tgz\n",
        "!wget -q https://dlcdn.apache.org/spark/spark-3.2.1/spark-3.2.1-bin-hadoop3.2.tgz\n",
        "!tar xf spark-3.2.1-bin-hadoop3.2.tgz\n",
        "!pip install -q findspark\n",
        "!pip install pyspark\n",
        "!pip install py4j\n",
        "\n",
        "import os\n",
        "import sys\n",
        "os.environ[\"JAVA_HOME\"] = \"/usr/lib/jvm/java-8-openjdk-amd64\"\n",
        "os.environ[\"SPARK_HOME\"] = \"/content/spark-3.2.1-bin-hadoop3.2\"\n",
        "\n",
        "import pyspark\n",
        "import findspark\n",
        "findspark.init()\n",
        "findspark.find()\n",
        "\n",
        "from pyspark.sql import DataFrame, SparkSession\n",
        "from typing import List\n",
        "import pyspark.sql.types as T\n",
        "import pyspark.sql.functions as F\n",
        "\n",
        "spark= SparkSession \\\n",
        "       .builder \\\n",
        "       .appName(\"Our First Spark Example\") \\\n",
        "       .getOrCreate()\n",
        "\n",
        "spark"
      ],
      "metadata": {
        "colab": {
          "base_uri": "https://localhost:8080/",
          "height": 862
        },
        "id": "9tMLiy4pi-KY",
        "outputId": "b5ff3271-5bd5-4cc1-feff-2297331e2438"
      },
      "execution_count": null,
      "outputs": [
        {
          "output_type": "stream",
          "name": "stdout",
          "text": [
            "\u001b[33m\r0% [Working]\u001b[0m\r            \rGet:1 https://cloud.r-project.org/bin/linux/ubuntu bionic-cran40/ InRelease [3,626 B]\n",
            "Ign:2 https://developer.download.nvidia.com/compute/cuda/repos/ubuntu1804/x86_64  InRelease\n",
            "Get:3 http://ppa.launchpad.net/c2d4u.team/c2d4u4.0+/ubuntu bionic InRelease [15.9 kB]\n",
            "Get:4 http://security.ubuntu.com/ubuntu bionic-security InRelease [88.7 kB]\n",
            "Hit:5 http://archive.ubuntu.com/ubuntu bionic InRelease\n",
            "Ign:6 https://developer.download.nvidia.com/compute/machine-learning/repos/ubuntu1804/x86_64  InRelease\n",
            "Hit:7 https://developer.download.nvidia.com/compute/cuda/repos/ubuntu1804/x86_64  Release\n",
            "Hit:8 https://developer.download.nvidia.com/compute/machine-learning/repos/ubuntu1804/x86_64  Release\n",
            "Get:9 http://archive.ubuntu.com/ubuntu bionic-updates InRelease [88.7 kB]\n",
            "Hit:10 http://ppa.launchpad.net/cran/libgit2/ubuntu bionic InRelease\n",
            "Get:11 http://ppa.launchpad.net/deadsnakes/ppa/ubuntu bionic InRelease [15.9 kB]\n",
            "Get:12 http://archive.ubuntu.com/ubuntu bionic-backports InRelease [74.6 kB]\n",
            "Hit:15 http://ppa.launchpad.net/graphics-drivers/ppa/ubuntu bionic InRelease\n",
            "Get:16 http://ppa.launchpad.net/c2d4u.team/c2d4u4.0+/ubuntu bionic/main Sources [1,947 kB]\n",
            "Get:17 http://security.ubuntu.com/ubuntu bionic-security/main amd64 Packages [2,694 kB]\n",
            "Get:18 http://archive.ubuntu.com/ubuntu bionic-updates/main amd64 Packages [3,133 kB]\n",
            "Get:19 http://ppa.launchpad.net/c2d4u.team/c2d4u4.0+/ubuntu bionic/main amd64 Packages [996 kB]\n",
            "Get:20 http://ppa.launchpad.net/deadsnakes/ppa/ubuntu bionic/main amd64 Packages [45.3 kB]\n",
            "Fetched 9,103 kB in 3s (3,145 kB/s)\n",
            "Reading package lists... Done\n",
            "Building dependency tree       \n",
            "Reading state information... Done\n",
            "40 packages can be upgraded. Run 'apt list --upgradable' to see them.\n",
            "Collecting pyspark\n",
            "  Downloading pyspark-3.2.1.tar.gz (281.4 MB)\n",
            "\u001b[K     |████████████████████████████████| 281.4 MB 36 kB/s \n",
            "\u001b[?25hCollecting py4j==0.10.9.3\n",
            "  Downloading py4j-0.10.9.3-py2.py3-none-any.whl (198 kB)\n",
            "\u001b[K     |████████████████████████████████| 198 kB 61.5 MB/s \n",
            "\u001b[?25hBuilding wheels for collected packages: pyspark\n",
            "  Building wheel for pyspark (setup.py) ... \u001b[?25l\u001b[?25hdone\n",
            "  Created wheel for pyspark: filename=pyspark-3.2.1-py2.py3-none-any.whl size=281853642 sha256=cce32003838d31f65320fa74a5baa0f49c2f7a98d87a552d22ea6bc39c3e9321\n",
            "  Stored in directory: /root/.cache/pip/wheels/9f/f5/07/7cd8017084dce4e93e84e92efd1e1d5334db05f2e83bcef74f\n",
            "Successfully built pyspark\n",
            "Installing collected packages: py4j, pyspark\n",
            "Successfully installed py4j-0.10.9.3 pyspark-3.2.1\n",
            "Requirement already satisfied: py4j in /usr/local/lib/python3.7/dist-packages (0.10.9.3)\n"
          ]
        },
        {
          "output_type": "execute_result",
          "data": {
            "text/plain": [
              "<pyspark.sql.session.SparkSession at 0x7f3babf18ad0>"
            ],
            "text/html": [
              "\n",
              "            <div>\n",
              "                <p><b>SparkSession - in-memory</b></p>\n",
              "                \n",
              "        <div>\n",
              "            <p><b>SparkContext</b></p>\n",
              "\n",
              "            <p><a href=\"http://7dd662f59c6d:4040\">Spark UI</a></p>\n",
              "\n",
              "            <dl>\n",
              "              <dt>Version</dt>\n",
              "                <dd><code>v3.2.1</code></dd>\n",
              "              <dt>Master</dt>\n",
              "                <dd><code>local[*]</code></dd>\n",
              "              <dt>AppName</dt>\n",
              "                <dd><code>Our First Spark Example</code></dd>\n",
              "            </dl>\n",
              "        </div>\n",
              "        \n",
              "            </div>\n",
              "        "
            ]
          },
          "metadata": {},
          "execution_count": 1
        }
      ]
    },
    {
      "cell_type": "markdown",
      "metadata": {
        "id": "1mDEqwqBifgH"
      },
      "source": [
        "<font color='red'>Deadline on 12th april 2022 18:00\n",
        "</font>"
      ]
    },
    {
      "cell_type": "markdown",
      "metadata": {
        "id": "IHPmCIXjifgH"
      },
      "source": [
        "This homework can be realised in pairs (maximum 2 people maximum) or alone.\n",
        "\n",
        "Please, give all author names :\n",
        "\n"
      ]
    },
    {
      "cell_type": "raw",
      "metadata": {
        "id": "httCKJX4ifgH"
      },
      "source": [
        ""
      ]
    },
    {
      "cell_type": "markdown",
      "metadata": {
        "id": "ltV08ReiifgI"
      },
      "source": [
        "Rename the notebook including all author names.\n",
        " ex DEVOIR_SPARK_SUJET_Lastname1_Lastname2.ipynb\n"
      ]
    },
    {
      "cell_type": "markdown",
      "metadata": {
        "id": "6AbSMj4RifgI"
      },
      "source": [
        "![image.png](attachment:image.png)"
      ]
    },
    {
      "cell_type": "markdown",
      "metadata": {
        "id": "Lbiqo8F2ifgI"
      },
      "source": [
        "## Prerequisite"
      ]
    },
    {
      "cell_type": "markdown",
      "metadata": {
        "id": "vHmlqHcMifgJ"
      },
      "source": [
        "Start your Spark cluster :"
      ]
    },
    {
      "cell_type": "raw",
      "metadata": {
        "id": "w25MEUv-ifgJ"
      },
      "source": [
        "docker start smaster sworker1 sworker2"
      ]
    },
    {
      "cell_type": "markdown",
      "metadata": {
        "id": "K1w6fmkpifgJ"
      },
      "source": [
        "Check all the following containers are up :\n",
        "\n",
        "smaster, sworker1, sworker2 \n"
      ]
    },
    {
      "cell_type": "raw",
      "metadata": {
        "id": "kvs8jRPIifgK"
      },
      "source": [
        "docker ps"
      ]
    },
    {
      "cell_type": "markdown",
      "metadata": {
        "id": "A875SrZUifgK"
      },
      "source": [
        "### Data download"
      ]
    },
    {
      "cell_type": "markdown",
      "metadata": {
        "id": "PoAwpH87ifgK"
      },
      "source": [
        "This practice is based on a dataset from data.gouv.fr.\n",
        "\n",
        "You will need an internet acces in order to download the dataset. The following cell will download data into `/dataspark` :"
      ]
    },
    {
      "cell_type": "code",
      "execution_count": null,
      "metadata": {
        "colab": {
          "base_uri": "https://localhost:8080/"
        },
        "id": "w0gA_g42ifgK",
        "outputId": "64769b6c-c0ae-4073-f7f5-857fd77712cf"
      },
      "outputs": [
        {
          "output_type": "stream",
          "name": "stdout",
          "text": [
            "--2022-04-12 08:33:20--  https://files.data.gouv.fr/geo-dvf/latest/csv/2021/full.csv.gz\n",
            "Resolving files.data.gouv.fr (files.data.gouv.fr)... 51.38.54.240\n",
            "Connecting to files.data.gouv.fr (files.data.gouv.fr)|51.38.54.240|:443... connected.\n",
            "HTTP request sent, awaiting response... 200 OK\n",
            "Length: 34657631 (33M) [application/octet-stream]\n",
            "Saving to: ‘2021-mutations-immobilieres.csv.gz’\n",
            "\n",
            "2021-mutations-immo 100%[===================>]  33.05M  19.8MB/s    in 1.7s    \n",
            "\n",
            "2022-04-12 08:33:22 (19.8 MB/s) - ‘2021-mutations-immobilieres.csv.gz’ saved [34657631/34657631]\n",
            "\n"
          ]
        }
      ],
      "source": [
        "!wget https://files.data.gouv.fr/geo-dvf/latest/csv/2021/full.csv.gz -O 2021-mutations-immobilieres.csv.gz"
      ]
    },
    {
      "cell_type": "markdown",
      "metadata": {
        "id": "UdTdBmLTifgL"
      },
      "source": [
        "The dataset represents all France real estate transfer in 2021."
      ]
    },
    {
      "cell_type": "markdown",
      "metadata": {
        "id": "QVkgbRRRifgM"
      },
      "source": [
        "Here is the description of each column : \n",
        "\n",
        "```\n",
        "id_mutation : Identifiant de mutation (non stable, sert à grouper les lignes)\n",
        "date_mutation : Date de la mutation au format ISO-8601 (YYYY-MM-DD)\n",
        "numero_disposition : Numéro de disposition\n",
        "nature_mutation : Nature de la mutation\n",
        "valeur_fonciere : Valeur foncière (séparateur décimal = point)\n",
        "adresse_numero : Numéro de l'adresse\n",
        "adresse_suffixe : Suffixe du numéro de l'adresse (B, T, Q)\n",
        "adresse_code_voie : Code FANTOIR de la voie (4 caractères)\n",
        "adresse_nom_voie : Nom de la voie de l'adresse\n",
        "code_postal : Code postal (5 caractères)\n",
        "code_commune : Code commune INSEE (5 caractères)\n",
        "nom_commune : Nom de la commune (accentué)\n",
        "ancien_code_commune : Ancien code commune INSEE (si différent lors de la mutation)\n",
        "ancien_nom_commune : Ancien nom de la commune (si différent lors de la mutation)\n",
        "code_departement : Code département INSEE (2 ou 3 caractères)\n",
        "id_parcelle : Identifiant de parcelle (14 caractères)\n",
        "ancien_id_parcelle : Ancien identifiant de parcelle (si différent lors de la mutation)\n",
        "numero_volume : Numéro de volume\n",
        "lot_1_numero : Numéro du lot 1\n",
        "lot_1_surface_carrez : Surface Carrez du lot 1\n",
        "lot_2_numero : Numéro du lot 2\n",
        "lot_2_surface_carrez : Surface Carrez du lot 2\n",
        "lot_3_numero : Numéro du lot 3\n",
        "lot_3_surface_carrez : Surface Carrez du lot 3\n",
        "lot_4_numero : Numéro du lot 4\n",
        "lot_4_surface_carrez : Surface Carrez du lot 4\n",
        "lot_5_numero : Numéro du lot 5\n",
        "lot_5_surface_carrez : Surface Carrez du lot 5\n",
        "nombre_lots : Nombre de lots\n",
        "code_type_local : Code de type de local\n",
        "type_local : Libellé du type de local\n",
        "surface_reelle_bati : Surface réelle du bâti\n",
        "nombre_pieces_principales : Nombre de pièces principales\n",
        "code_nature_culture : Code de nature de culture\n",
        "nature_culture : Libellé de nature de culture\n",
        "code_nature_culture_speciale : Code de nature de culture spéciale\n",
        "nature_culture_speciale : Libellé de nature de culture spéciale\n",
        "surface_terrain : Surface du terrain\n",
        "longitude : Longitude du centre de la parcelle concernée (WGS-84)\n",
        "latitude : Latitude du centre de la parcelle concernée (WGS-84)    \n",
        "```"
      ]
    },
    {
      "cell_type": "markdown",
      "metadata": {
        "id": "xceP-3eZifgM"
      },
      "source": [
        "You are now ready to analyze data.\n",
        "\n",
        "Note that the following documentation may be a great help to assist you in this homework.\n",
        "\n",
        "https://sparkbyexamples.com/pyspark-tutorial/\n"
      ]
    },
    {
      "cell_type": "markdown",
      "metadata": {
        "id": "PUJyBBuvifgN"
      },
      "source": [
        "## 1 - Dataframe"
      ]
    },
    {
      "cell_type": "markdown",
      "metadata": {
        "id": "r0yrauDIifgN"
      },
      "source": [
        "Open a connection to your Spark cluster :"
      ]
    },
    {
      "cell_type": "code",
      "execution_count": null,
      "metadata": {
        "id": "YJzBi_E4ifgN"
      },
      "outputs": [],
      "source": [
        "# # N'oubliez pas de fermer la connexion à la fin du TP\n",
        "# # spark.stop()\n",
        "# from pyspark.sql import SparkSession\n",
        "# spark = SparkSession.builder.master(\"spark://smaster:7077\").appName(\"TPDF02\").getOrCreate()"
      ]
    },
    {
      "cell_type": "markdown",
      "metadata": {
        "id": "vSI6pszWifgN"
      },
      "source": [
        "Check your connection :"
      ]
    },
    {
      "cell_type": "code",
      "execution_count": null,
      "metadata": {
        "colab": {
          "base_uri": "https://localhost:8080/",
          "height": 219
        },
        "id": "_9c_4L2DifgN",
        "outputId": "3ade42f8-f9ce-433c-ebf0-662c8111a474"
      },
      "outputs": [
        {
          "output_type": "execute_result",
          "data": {
            "text/plain": [
              "<pyspark.sql.session.SparkSession at 0x7fc4de590190>"
            ],
            "text/html": [
              "\n",
              "            <div>\n",
              "                <p><b>SparkSession - in-memory</b></p>\n",
              "                \n",
              "        <div>\n",
              "            <p><b>SparkContext</b></p>\n",
              "\n",
              "            <p><a href=\"http://5b31d1cd4ab1:4040\">Spark UI</a></p>\n",
              "\n",
              "            <dl>\n",
              "              <dt>Version</dt>\n",
              "                <dd><code>v3.2.1</code></dd>\n",
              "              <dt>Master</dt>\n",
              "                <dd><code>local[*]</code></dd>\n",
              "              <dt>AppName</dt>\n",
              "                <dd><code>Our First Spark Example</code></dd>\n",
              "            </dl>\n",
              "        </div>\n",
              "        \n",
              "            </div>\n",
              "        "
            ]
          },
          "metadata": {},
          "execution_count": 11
        }
      ],
      "source": [
        "spark"
      ]
    },
    {
      "cell_type": "markdown",
      "metadata": {
        "id": "6_W2u8FSifgN"
      },
      "source": [
        "<font color='red'>Q1 - Open and infer the dataset into the mutationsDF dataframe ? (1pt)\n",
        "    \n",
        "Note that the dataset schema should be automatically included into the dataframe.  \n",
        "The dataset is compressed under the format .gz, don't worry about that Spark is able to read like a simple a csv file.\n",
        "</font>"
      ]
    },
    {
      "cell_type": "code",
      "execution_count": null,
      "metadata": {
        "id": "RK_UnPihifgO"
      },
      "outputs": [],
      "source": [
        "df = spark.read.csv('2021-mutations-immobilieres.csv.gz', inferSchema=True,header=True)"
      ]
    },
    {
      "cell_type": "markdown",
      "metadata": {
        "id": "FV9rhkwSifgO"
      },
      "source": [
        "<font color='red'>Q2 - Display the data schema of mutationsDF dataframe ?  (1pt)\n",
        "</font>"
      ]
    },
    {
      "cell_type": "code",
      "execution_count": null,
      "metadata": {
        "colab": {
          "base_uri": "https://localhost:8080/"
        },
        "id": "Gd-z4JiXifgO",
        "outputId": "037106b5-81cd-4ac5-da4e-a34c7e9c27a7"
      },
      "outputs": [
        {
          "output_type": "stream",
          "name": "stdout",
          "text": [
            "root\n",
            " |-- id_mutation: string (nullable = true)\n",
            " |-- date_mutation: string (nullable = true)\n",
            " |-- numero_disposition: integer (nullable = true)\n",
            " |-- nature_mutation: string (nullable = true)\n",
            " |-- valeur_fonciere: double (nullable = true)\n",
            " |-- adresse_numero: integer (nullable = true)\n",
            " |-- adresse_suffixe: string (nullable = true)\n",
            " |-- adresse_nom_voie: string (nullable = true)\n",
            " |-- adresse_code_voie: string (nullable = true)\n",
            " |-- code_postal: integer (nullable = true)\n",
            " |-- code_commune: string (nullable = true)\n",
            " |-- nom_commune: string (nullable = true)\n",
            " |-- code_departement: string (nullable = true)\n",
            " |-- ancien_code_commune: string (nullable = true)\n",
            " |-- ancien_nom_commune: string (nullable = true)\n",
            " |-- id_parcelle: string (nullable = true)\n",
            " |-- ancien_id_parcelle: string (nullable = true)\n",
            " |-- numero_volume: string (nullable = true)\n",
            " |-- lot1_numero: string (nullable = true)\n",
            " |-- lot1_surface_carrez: double (nullable = true)\n",
            " |-- lot2_numero: string (nullable = true)\n",
            " |-- lot2_surface_carrez: double (nullable = true)\n",
            " |-- lot3_numero: string (nullable = true)\n",
            " |-- lot3_surface_carrez: double (nullable = true)\n",
            " |-- lot4_numero: string (nullable = true)\n",
            " |-- lot4_surface_carrez: double (nullable = true)\n",
            " |-- lot5_numero: integer (nullable = true)\n",
            " |-- lot5_surface_carrez: double (nullable = true)\n",
            " |-- nombre_lots: integer (nullable = true)\n",
            " |-- code_type_local: integer (nullable = true)\n",
            " |-- type_local: string (nullable = true)\n",
            " |-- surface_reelle_bati: integer (nullable = true)\n",
            " |-- nombre_pieces_principales: integer (nullable = true)\n",
            " |-- code_nature_culture: string (nullable = true)\n",
            " |-- nature_culture: string (nullable = true)\n",
            " |-- code_nature_culture_speciale: string (nullable = true)\n",
            " |-- nature_culture_speciale: string (nullable = true)\n",
            " |-- surface_terrain: integer (nullable = true)\n",
            " |-- longitude: double (nullable = true)\n",
            " |-- latitude: double (nullable = true)\n",
            "\n"
          ]
        }
      ],
      "source": [
        "df.printSchema()"
      ]
    },
    {
      "cell_type": "markdown",
      "metadata": {
        "id": "9n8iIhKkifgO"
      },
      "source": [
        "<font color='red'>Q3 - Display one row of your mutationsDF dataframe : (1pt)\n",
        "    </font>"
      ]
    },
    {
      "cell_type": "code",
      "execution_count": null,
      "metadata": {
        "colab": {
          "base_uri": "https://localhost:8080/"
        },
        "id": "-Ue7g9UGifgO",
        "outputId": "18564f2e-0a62-4e79-8f3e-b9685b61f035"
      },
      "outputs": [
        {
          "output_type": "stream",
          "name": "stdout",
          "text": [
            "+-------------+\n",
            "|date_mutation|\n",
            "+-------------+\n",
            "|   2021-01-05|\n",
            "|   2021-01-05|\n",
            "|   2021-01-06|\n",
            "|   2021-01-04|\n",
            "|   2021-01-06|\n",
            "|   2021-01-06|\n",
            "|   2021-01-04|\n",
            "|   2021-01-04|\n",
            "|   2021-01-04|\n",
            "|   2021-01-11|\n",
            "|   2021-01-07|\n",
            "|   2021-01-07|\n",
            "|   2021-01-07|\n",
            "|   2021-01-07|\n",
            "|   2021-01-04|\n",
            "|   2021-01-08|\n",
            "|   2021-01-07|\n",
            "|   2021-01-11|\n",
            "|   2021-01-08|\n",
            "|   2021-01-08|\n",
            "+-------------+\n",
            "only showing top 20 rows\n",
            "\n"
          ]
        }
      ],
      "source": [
        "df_DateMutation = df.select('date_mutation').show()"
      ]
    },
    {
      "cell_type": "markdown",
      "metadata": {
        "id": "c2_t8-6ZifgO"
      },
      "source": [
        "<font color='red'>Q4 - Create from mutationsDF dataframe a new Dataframe CleanMutationDF which matches the following constraints : (2pt)\n",
        "* type_local is not null\n",
        "* type_local is 'Maison' or 'Appartement'\n",
        "* only the following attributes should be selected : id_mutation , nature_mutation, type_local , date_mutation , valeur_fonciere\n",
        "\n",
        "\n",
        "</font>"
      ]
    },
    {
      "cell_type": "code",
      "execution_count": null,
      "metadata": {
        "tags": [],
        "colab": {
          "base_uri": "https://localhost:8080/"
        },
        "id": "4gr-O_YcifgO",
        "outputId": "111f054c-f219-497e-801f-9ceea5c428de"
      },
      "outputs": [
        {
          "output_type": "stream",
          "name": "stdout",
          "text": [
            "+-----------+---------------+-----------+-------------+---------------+\n",
            "|id_mutation|nature_mutation| type_local|date_mutation|valeur_fonciere|\n",
            "+-----------+---------------+-----------+-------------+---------------+\n",
            "|     2021-1|          Vente|     Maison|   2021-01-05|       185000.0|\n",
            "|     2021-3|          Vente|     Maison|   2021-01-04|       204332.0|\n",
            "|     2021-4|          Vente|     Maison|   2021-01-06|       320000.0|\n",
            "|     2021-6|          Vente|Appartement|   2021-01-04|       176000.0|\n",
            "|     2021-9|          Vente|     Maison|   2021-01-04|       226700.0|\n",
            "|    2021-10|          Vente|     Maison|   2021-01-08|       185000.0|\n",
            "|    2021-11|          Vente|     Maison|   2021-01-07|       114500.0|\n",
            "|    2021-13|          Vente|     Maison|   2021-01-08|       145000.0|\n",
            "|    2021-14|          Vente|     Maison|   2021-01-07|       169600.0|\n",
            "|    2021-15|          Vente|Appartement|   2021-01-08|       129150.0|\n",
            "|    2021-16|          Vente|     Maison|   2021-01-18|       178600.0|\n",
            "|    2021-18|          Vente|Appartement|   2021-01-04|       165000.0|\n",
            "|    2021-20|          Vente|     Maison|   2021-01-04|       130000.0|\n",
            "|    2021-22|          Vente|Appartement|   2021-01-04|       143000.0|\n",
            "|    2021-24|          Vente|Appartement|   2021-01-05|        57000.0|\n",
            "|    2021-25|          Vente|     Maison|   2021-01-07|       258000.0|\n",
            "|    2021-25|          Vente|     Maison|   2021-01-07|       258000.0|\n",
            "|    2021-26|          Vente|Appartement|   2021-01-07|        72000.0|\n",
            "|    2021-26|          Vente|Appartement|   2021-01-07|        72000.0|\n",
            "|    2021-27|          Vente|     Maison|   2021-01-11|       150000.0|\n",
            "+-----------+---------------+-----------+-------------+---------------+\n",
            "only showing top 20 rows\n",
            "\n"
          ]
        }
      ],
      "source": [
        "CleanMutationDF = df.na.drop(subset=['type_local']) # drop null elements\n",
        "liste = ['Maison', 'Appartement'] \n",
        "CleanMutationDF = CleanMutationDF.filter(df.type_local.isin(liste))\n",
        "selection = ['id_mutation', 'nature_mutation', 'type_local', 'date_mutation', 'valeur_fonciere']\n",
        "CleanMutationDF = CleanMutationDF.select(selection)\n",
        "CleanMutationDF.show()"
      ]
    },
    {
      "cell_type": "code",
      "execution_count": null,
      "metadata": {
        "id": "kI1T5Zc1ifgP"
      },
      "outputs": [],
      "source": [
        ""
      ]
    },
    {
      "cell_type": "markdown",
      "metadata": {
        "id": "vfLncCgIifgP"
      },
      "source": [
        "<font color='red'>Q5 - Save your CleanMutationDF dataframe into a parquet file ( /dataspark/mutations-immobilieres.parquet ) ? (1pt)\n",
        "</font>"
      ]
    },
    {
      "cell_type": "code",
      "execution_count": null,
      "metadata": {
        "id": "JJFitr05ifgP"
      },
      "outputs": [],
      "source": [
        "CleanMutationDF.write.parquet(\"mutations-immobilieres.parquet\")"
      ]
    },
    {
      "cell_type": "markdown",
      "metadata": {
        "id": "n9Wqrm-rifgP"
      },
      "source": [
        "If you need to remove the parquet file you can run the following cell :"
      ]
    },
    {
      "cell_type": "code",
      "execution_count": null,
      "metadata": {
        "id": "91xXBF5TifgP"
      },
      "outputs": [],
      "source": [
        "!rm -rf mutations-immobilieres.parquet"
      ]
    },
    {
      "cell_type": "markdown",
      "metadata": {
        "id": "NxzffDFwifgP"
      },
      "source": [
        "<font color='red'>Q6 - Load  the parquet file ('/dataspark/mutations-immobilieres.parquet') into a mutationsPDF dataframe  ? (1pt)</font> "
      ]
    },
    {
      "cell_type": "code",
      "execution_count": null,
      "metadata": {
        "id": "AhR9cb6UifgP"
      },
      "outputs": [],
      "source": [
        "mutationsPDF = spark.read.parquet('mutations-immobilieres.parquet')"
      ]
    },
    {
      "cell_type": "markdown",
      "metadata": {
        "id": "5v9HxOnZifgP"
      },
      "source": [
        "<font color='red'>Q7 - How many rows do you have in mutationsPDF ? (1pt)</font>"
      ]
    },
    {
      "cell_type": "code",
      "execution_count": null,
      "metadata": {
        "colab": {
          "base_uri": "https://localhost:8080/"
        },
        "id": "0o97_aarifgP",
        "outputId": "0ce8f626-b1c7-43fd-b50a-7e294d2c6c0c"
      },
      "outputs": [
        {
          "output_type": "stream",
          "name": "stdout",
          "text": [
            "+-------+-----------+--------------------+-----------+-------------+------------------+\n",
            "|summary|id_mutation|     nature_mutation| type_local|date_mutation|   valeur_fonciere|\n",
            "+-------+-----------+--------------------+-----------+-------------+------------------+\n",
            "|  count|     429006|              429006|     429006|       429006|            427738|\n",
            "|   mean|       null|                null|       null|         null|370445.28003852925|\n",
            "| stddev|       null|                null|       null|         null| 1329070.422905814|\n",
            "|    min|     2021-1|        Adjudication|Appartement|   2021-01-01|               0.5|\n",
            "|    max| 2021-99998|Vente terrain à b...|     Maison|   2021-06-30|      1.37204368E8|\n",
            "+-------+-----------+--------------------+-----------+-------------+------------------+\n",
            "\n",
            "There is 429006 rows in mutationsPDF\n"
          ]
        }
      ],
      "source": [
        "mutationsPDF.describe().show()\n",
        "print(f'There is 429006 rows in mutationsPDF')"
      ]
    },
    {
      "cell_type": "markdown",
      "metadata": {
        "id": "-xyHY_lJifgP"
      },
      "source": [
        "\n",
        "\n",
        "<div class=\"alert alert-block alert-info\">\n",
        " Please note that there may be several rows for the same transaction. All the rows part of a single transaction have the same identifier (i.e. the same value) in the id_mutation column. For instance, there are two rows with the value 2021-887 in the id_mutation column.\n",
        "</div>\n",
        "\n",
        "<font color='red'>Q8 - Select all rows concerning the id_mutation 2021-15481 into the singleTrDF dataframe (1pt) :\n",
        "</font>\n"
      ]
    },
    {
      "cell_type": "code",
      "execution_count": null,
      "metadata": {
        "colab": {
          "base_uri": "https://localhost:8080/"
        },
        "id": "wwxChQbQifgP",
        "outputId": "af64796a-e5fe-4fb3-e90e-124a7ff55845"
      },
      "outputs": [
        {
          "output_type": "stream",
          "name": "stdout",
          "text": [
            "+-----------+---------------+----------+-------------+---------------+\n",
            "|id_mutation|nature_mutation|type_local|date_mutation|valeur_fonciere|\n",
            "+-----------+---------------+----------+-------------+---------------+\n",
            "| 2021-15481|          Vente|    Maison|   2021-01-13|       900000.0|\n",
            "| 2021-15481|          Vente|    Maison|   2021-01-13|       900000.0|\n",
            "| 2021-15481|          Vente|    Maison|   2021-01-13|       900000.0|\n",
            "+-----------+---------------+----------+-------------+---------------+\n",
            "\n"
          ]
        }
      ],
      "source": [
        "same_id = '2021-15481'\n",
        "singleTrDF = mutationsPDF.filter(mutationsPDF.id_mutation == same_id)\n",
        "singleTrDF.show()\n"
      ]
    },
    {
      "cell_type": "code",
      "execution_count": null,
      "metadata": {
        "id": "2L9EwDMuifgQ"
      },
      "outputs": [],
      "source": [
        ""
      ]
    },
    {
      "cell_type": "markdown",
      "metadata": {
        "id": "aO7orY5WifgQ"
      },
      "source": [
        "\n",
        "\n",
        "<font color='red'>Q9 - The singleTrDF contains 3 lines for the same transaction. How could you filtered out duplicated rows ? (1pt) \n",
        "</font>"
      ]
    },
    {
      "cell_type": "code",
      "execution_count": null,
      "metadata": {
        "colab": {
          "base_uri": "https://localhost:8080/"
        },
        "id": "6ngrUGpJifgQ",
        "outputId": "e581b072-9fda-4717-ca5f-564d3d895c79"
      },
      "outputs": [
        {
          "output_type": "stream",
          "name": "stdout",
          "text": [
            "+-----------+---------------+----------+-------------+---------------+\n",
            "|id_mutation|nature_mutation|type_local|date_mutation|valeur_fonciere|\n",
            "+-----------+---------------+----------+-------------+---------------+\n",
            "| 2021-15481|          Vente|    Maison|   2021-01-13|       900000.0|\n",
            "+-----------+---------------+----------+-------------+---------------+\n",
            "\n"
          ]
        }
      ],
      "source": [
        "singleTrDF = singleTrDF.dropDuplicates(['id_mutation'])\n",
        "singleTrDF.show()"
      ]
    },
    {
      "cell_type": "markdown",
      "metadata": {
        "id": "SJucDSPnifgQ"
      },
      "source": [
        "<font color='red'>Q10 -  From mutationsPDF dataframe, create a new dataframe mutationDistinctPDF matching the following constraints : (1pt)\n",
        "* no duplicated rows\n",
        "* selecting only nature_mutation = 'Vente'\n",
        "</font>"
      ]
    },
    {
      "cell_type": "code",
      "source": [
        "mutationsPDF.show()"
      ],
      "metadata": {
        "colab": {
          "base_uri": "https://localhost:8080/"
        },
        "id": "hvvANnWDzrUe",
        "outputId": "86c3e95d-aa4f-40f0-d6c0-9532e3504c7e"
      },
      "execution_count": null,
      "outputs": [
        {
          "output_type": "stream",
          "name": "stdout",
          "text": [
            "+-----------+---------------+-----------+-------------+---------------+\n",
            "|id_mutation|nature_mutation| type_local|date_mutation|valeur_fonciere|\n",
            "+-----------+---------------+-----------+-------------+---------------+\n",
            "|     2021-1|          Vente|     Maison|   2021-01-05|       185000.0|\n",
            "|     2021-3|          Vente|     Maison|   2021-01-04|       204332.0|\n",
            "|     2021-4|          Vente|     Maison|   2021-01-06|       320000.0|\n",
            "|     2021-6|          Vente|Appartement|   2021-01-04|       176000.0|\n",
            "|     2021-9|          Vente|     Maison|   2021-01-04|       226700.0|\n",
            "|    2021-10|          Vente|     Maison|   2021-01-08|       185000.0|\n",
            "|    2021-11|          Vente|     Maison|   2021-01-07|       114500.0|\n",
            "|    2021-13|          Vente|     Maison|   2021-01-08|       145000.0|\n",
            "|    2021-14|          Vente|     Maison|   2021-01-07|       169600.0|\n",
            "|    2021-15|          Vente|Appartement|   2021-01-08|       129150.0|\n",
            "|    2021-16|          Vente|     Maison|   2021-01-18|       178600.0|\n",
            "|    2021-18|          Vente|Appartement|   2021-01-04|       165000.0|\n",
            "|    2021-20|          Vente|     Maison|   2021-01-04|       130000.0|\n",
            "|    2021-22|          Vente|Appartement|   2021-01-04|       143000.0|\n",
            "|    2021-24|          Vente|Appartement|   2021-01-05|        57000.0|\n",
            "|    2021-25|          Vente|     Maison|   2021-01-07|       258000.0|\n",
            "|    2021-25|          Vente|     Maison|   2021-01-07|       258000.0|\n",
            "|    2021-26|          Vente|Appartement|   2021-01-07|        72000.0|\n",
            "|    2021-26|          Vente|Appartement|   2021-01-07|        72000.0|\n",
            "|    2021-27|          Vente|     Maison|   2021-01-11|       150000.0|\n",
            "+-----------+---------------+-----------+-------------+---------------+\n",
            "only showing top 20 rows\n",
            "\n"
          ]
        }
      ]
    },
    {
      "cell_type": "code",
      "execution_count": null,
      "metadata": {
        "id": "zrxh_P_0ifgQ"
      },
      "outputs": [],
      "source": [
        "mutationsPDF = mutationsPDF.filter(mutationsPDF.nature_mutation == 'Vente')\n",
        "mutationsDistinctPDF = mutationsPDF.dropDuplicates(['id_mutation'])"
      ]
    },
    {
      "cell_type": "code",
      "execution_count": null,
      "metadata": {
        "colab": {
          "base_uri": "https://localhost:8080/"
        },
        "id": "iMFW8UiVifgQ",
        "outputId": "6656a148-e8b6-46f8-d824-22e6ca3e4120"
      },
      "outputs": [
        {
          "output_type": "stream",
          "name": "stdout",
          "text": [
            "+-----------+---------------+-----------+-------------+---------------+\n",
            "|id_mutation|nature_mutation| type_local|date_mutation|valeur_fonciere|\n",
            "+-----------+---------------+-----------+-------------+---------------+\n",
            "|    2021-10|          Vente|     Maison|   2021-01-08|       185000.0|\n",
            "|   2021-100|          Vente|     Maison|   2021-01-21|        86000.0|\n",
            "|  2021-1000|          Vente|     Maison|   2021-04-15|       375000.0|\n",
            "| 2021-10000|          Vente|     Maison|   2021-01-29|       160000.0|\n",
            "|2021-100004|          Vente|     Maison|   2021-05-07|       345000.0|\n",
            "|2021-100005|          Vente|     Maison|   2021-04-29|       115000.0|\n",
            "|2021-100006|          Vente|     Maison|   2021-05-07|       297500.0|\n",
            "|2021-100008|          Vente|Appartement|   2021-04-22|        76500.0|\n",
            "|2021-100009|          Vente|     Maison|   2021-04-21|       171100.0|\n",
            "| 2021-10001|          Vente|     Maison|   2021-02-02|       130000.0|\n",
            "|2021-100011|          Vente|Appartement|   2021-05-10|       150000.0|\n",
            "|2021-100019|          Vente|     Maison|   2021-05-10|       480000.0|\n",
            "|2021-100022|          Vente|     Maison|   2021-05-10|       245000.0|\n",
            "|2021-100030|          Vente|     Maison|   2021-05-03|       326000.0|\n",
            "|2021-100034|          Vente|     Maison|   2021-04-29|       102000.0|\n",
            "|2021-100036|          Vente|Appartement|   2021-04-29|        88600.0|\n",
            "|2021-100037|          Vente|     Maison|   2021-04-13|       217050.0|\n",
            "|2021-100040|          Vente|Appartement|   2021-05-03|        52500.0|\n",
            "|2021-100041|          Vente|     Maison|   2021-05-03|       170000.0|\n",
            "|2021-100044|          Vente|Appartement|   2021-04-22|        28630.0|\n",
            "+-----------+---------------+-----------+-------------+---------------+\n",
            "only showing top 20 rows\n",
            "\n"
          ]
        }
      ],
      "source": [
        "mutationsDistinctPDF.show()"
      ]
    },
    {
      "cell_type": "code",
      "source": [
        "mutationsDistinctPDF.describe().show()"
      ],
      "metadata": {
        "colab": {
          "base_uri": "https://localhost:8080/"
        },
        "id": "yfVsY3bSz5DR",
        "outputId": "53c8f466-97bd-4357-e961-d09108fd1feb"
      },
      "execution_count": null,
      "outputs": [
        {
          "output_type": "stream",
          "name": "stdout",
          "text": [
            "+-------+-----------+---------------+-----------+-------------+------------------+\n",
            "|summary|id_mutation|nature_mutation| type_local|date_mutation|   valeur_fonciere|\n",
            "+-------+-----------+---------------+-----------+-------------+------------------+\n",
            "|  count|     340081|         340081|     340081|       340081|            339840|\n",
            "|   mean|       null|           null|       null|         null|248178.61635507882|\n",
            "| stddev|       null|           null|       null|         null| 434001.7678859122|\n",
            "|    min|     2021-1|          Vente|Appartement|   2021-01-01|               0.5|\n",
            "|    max| 2021-99996|          Vente|     Maison|   2021-06-30|       7.2277368E7|\n",
            "+-------+-----------+---------------+-----------+-------------+------------------+\n",
            "\n"
          ]
        }
      ]
    },
    {
      "cell_type": "markdown",
      "metadata": {
        "id": "wCkX7Ri3ifgQ"
      },
      "source": [
        "<font color='red'>Q11 -  From mutationDistinctPDF dataframe, compare the sales amount (valeur_fonciere) between 'Maison' (House) and 'Appartment' by month (3 pts)\n",
        "</font>\n",
        "\n",
        "\n",
        "<div class=\"alert alert-block alert-info\">\n",
        "Note that you can use the month function included into the pyspark.sql.functions to extract the month value from a date.\n",
        "</div>\n"
      ]
    },
    {
      "cell_type": "code",
      "execution_count": null,
      "metadata": {
        "id": "5lIAj8cPifgQ",
        "colab": {
          "base_uri": "https://localhost:8080/"
        },
        "outputId": "0aad6ae0-fd91-4bc6-9a45-98fc0b6daef6"
      },
      "outputs": [
        {
          "output_type": "stream",
          "name": "stdout",
          "text": [
            "+-----------+-----+--------------------+----------+\n",
            "| type_local|Month|sum(valeur_fonciere)|sum(Month)|\n",
            "+-----------+-----+--------------------+----------+\n",
            "|Appartement|    1|      6.0056700509E9|     24735|\n",
            "|Appartement|    2| 5.515345101689998E9|     46358|\n",
            "|Appartement|    3| 6.667854342100002E9|     80007|\n",
            "|Appartement|    4|     6.07096386606E9|     96984|\n",
            "|Appartement|    5| 5.714139175840002E9|    111555|\n",
            "|Appartement|    6| 6.648643771089997E9|    145086|\n",
            "|     Maison|    1| 8.260093426790003E9|     35034|\n",
            "|     Maison|    2| 7.613533315049997E9|     64778|\n",
            "|     Maison|    3| 8.591795203330002E9|    106260|\n",
            "|     Maison|    4| 8.077311011129997E9|    131232|\n",
            "|     Maison|    5| 7.103062856420001E9|    141905|\n",
            "|     Maison|    6| 8.072608861709998E9|    184368|\n",
            "+-----------+-----+--------------------+----------+\n",
            "\n"
          ]
        }
      ],
      "source": [
        "from pyspark.sql.functions import month\n",
        "\n",
        "new_mutationDistinctPDF = mutationsDistinctPDF.withColumn('Month', month(mutationsDistinctPDF['date_mutation']))\n",
        "# new_mutationDistinctPDF.show()\n",
        "new_mutationDistinctPDF = new_mutationDistinctPDF.select(\"valeur_fonciere\",\"Month\",'type_local')\n",
        "# new_mutationDistinctPDF.show()\n",
        "new_mutationDistinctPDF = new_mutationDistinctPDF.orderBy('type_local','month').groupBy('type_local','Month').sum()\n",
        "new_mutationDistinctPDF.show()"
      ]
    },
    {
      "cell_type": "markdown",
      "metadata": {
        "id": "dwEVY6fYifgQ"
      },
      "source": [
        "<font color='red'>Q12 - Determine the month where sales amount is highest for 'Maison' and 'Appartement' ? (1pt)\n",
        "</font>"
      ]
    },
    {
      "cell_type": "code",
      "execution_count": null,
      "metadata": {
        "id": "NJlAmn9yifgQ"
      },
      "outputs": [],
      "source": [
        "import pyspark.sql.functions as f "
      ]
    },
    {
      "cell_type": "code",
      "execution_count": null,
      "metadata": {
        "id": "ShzZYCm9ifgQ",
        "colab": {
          "base_uri": "https://localhost:8080/"
        },
        "outputId": "1b6737fd-4659-4adf-f56b-a66e4e1da927"
      },
      "outputs": [
        {
          "output_type": "stream",
          "name": "stdout",
          "text": [
            "+-----------+--------------------+\n",
            "| type_local|Highest sales amount|\n",
            "+-----------+--------------------+\n",
            "|Appartement| 6.667854342100002E9|\n",
            "|     Maison| 8.591795203330002E9|\n",
            "+-----------+--------------------+\n",
            "\n"
          ]
        }
      ],
      "source": [
        "new_mutationDistinctPDF.groupBy('type_local').agg(f.max(new_mutationDistinctPDF['sum(valeur_fonciere)']).alias('Highest sales amount')).show()"
      ]
    },
    {
      "cell_type": "code",
      "source": [
        "new_mutationDistinctPDF.filter(new_mutationDistinctPDF['sum(valeur_fonciere)'] == 6.667854342100002E9).show()"
      ],
      "metadata": {
        "colab": {
          "base_uri": "https://localhost:8080/"
        },
        "id": "J_vV9qOLIVlH",
        "outputId": "0973536c-420a-46e1-fb3c-b0e5925a8add"
      },
      "execution_count": null,
      "outputs": [
        {
          "output_type": "stream",
          "name": "stdout",
          "text": [
            "+-----------+-----+--------------------+----------+\n",
            "| type_local|Month|sum(valeur_fonciere)|sum(Month)|\n",
            "+-----------+-----+--------------------+----------+\n",
            "|Appartement|    3| 6.667854342100002E9|     80007|\n",
            "+-----------+-----+--------------------+----------+\n",
            "\n"
          ]
        }
      ]
    },
    {
      "cell_type": "code",
      "source": [
        "new_mutationDistinctPDF.filter(new_mutationDistinctPDF['sum(valeur_fonciere)'] == 8.591795203330002E9).show()"
      ],
      "metadata": {
        "colab": {
          "base_uri": "https://localhost:8080/"
        },
        "id": "_tjuQz2HIk4j",
        "outputId": "0e6c64af-52f7-46a5-9724-0f9bca33faf6"
      },
      "execution_count": null,
      "outputs": [
        {
          "output_type": "stream",
          "name": "stdout",
          "text": [
            "+----------+-----+--------------------+----------+\n",
            "|type_local|Month|sum(valeur_fonciere)|sum(Month)|\n",
            "+----------+-----+--------------------+----------+\n",
            "|    Maison|    3| 8.591795203330002E9|    106260|\n",
            "+----------+-----+--------------------+----------+\n",
            "\n"
          ]
        }
      ]
    },
    {
      "cell_type": "markdown",
      "metadata": {
        "id": "fkJtYDfYifgR"
      },
      "source": [
        "# 3 - SQL"
      ]
    },
    {
      "cell_type": "markdown",
      "metadata": {
        "id": "HK3vNZ6QifgR"
      },
      "source": [
        "In this exercise, you will handle the dataset using the SQL language.\n"
      ]
    },
    {
      "cell_type": "markdown",
      "metadata": {
        "id": "NhhUEk4OifgR"
      },
      "source": [
        "<font color='red'>Q13 - From the mutationDistinctPDF dataframe, create a view mutationSalesV ? (1pt) </font>"
      ]
    },
    {
      "cell_type": "code",
      "execution_count": null,
      "metadata": {
        "id": "7X7lenHxifgR",
        "colab": {
          "base_uri": "https://localhost:8080/"
        },
        "outputId": "37615671-e540-400b-8331-a1047b5d5bfb"
      },
      "outputs": [
        {
          "output_type": "stream",
          "name": "stdout",
          "text": [
            "+---------------+---------+-------+\n",
            "|       col_name|data_type|comment|\n",
            "+---------------+---------+-------+\n",
            "|    id_mutation|   string|   null|\n",
            "|nature_mutation|   string|   null|\n",
            "|     type_local|   string|   null|\n",
            "|  date_mutation|   string|   null|\n",
            "|valeur_fonciere|   double|   null|\n",
            "+---------------+---------+-------+\n",
            "\n"
          ]
        }
      ],
      "source": [
        "mutationsDistinctPDF.createOrReplaceTempView('mutationSalesV')\n",
        "spark.sql('desc mutationSalesV').show()"
      ]
    },
    {
      "cell_type": "markdown",
      "metadata": {
        "id": "0Cvd5_iGifgR"
      },
      "source": [
        "<font color='red'>Q14 -  From the mutationSalesV view, compare the sales amount (valeur_fonciere) between 'Maison' (House) and 'Appartment' by month using SQL ? (4 pts)\n",
        "\n",
        "</font>"
      ]
    },
    {
      "cell_type": "code",
      "execution_count": null,
      "metadata": {
        "id": "eHWWIAGeifgR",
        "colab": {
          "base_uri": "https://localhost:8080/"
        },
        "outputId": "909ada3b-520a-424d-a5fd-8254c9f8b91c"
      },
      "outputs": [
        {
          "output_type": "stream",
          "name": "stdout",
          "text": [
            "+--------------------+-----------+--------------------+\n",
            "|month(date_mutation)| type_local|sum(valeur_fonciere)|\n",
            "+--------------------+-----------+--------------------+\n",
            "|                   1|Appartement|      6.0056700509E9|\n",
            "|                   2|Appartement| 5.515345101689999E9|\n",
            "|                   3|Appartement| 6.667854342100002E9|\n",
            "|                   4|Appartement| 6.070963866059999E9|\n",
            "|                   5|Appartement|     5.71413917584E9|\n",
            "|                   6|Appartement|     6.64864377109E9|\n",
            "|                   1|     Maison| 8.260093426789999E9|\n",
            "|                   2|     Maison| 7.613533315049999E9|\n",
            "|                   3|     Maison| 8.591795203329998E9|\n",
            "|                   4|     Maison| 8.077311011130001E9|\n",
            "|                   5|     Maison|     7.10306285642E9|\n",
            "|                   6|     Maison| 8.072608861709997E9|\n",
            "+--------------------+-----------+--------------------+\n",
            "\n"
          ]
        }
      ],
      "source": [
        "sql_sales = spark.sql(\"SELECT month(date_mutation), type_local, SUM(valeur_fonciere) FROM mutationSalesV GROUP BY month(date_mutation), type_local ORDER BY type_local, month(date_mutation)\")\n",
        "sql_sales.show()"
      ]
    },
    {
      "cell_type": "markdown",
      "metadata": {
        "id": "Wk_rlMMQifgR"
      },
      "source": [
        "Close your Spark connection."
      ]
    },
    {
      "cell_type": "code",
      "execution_count": null,
      "metadata": {
        "id": "PrBZXVj9ifgR"
      },
      "outputs": [],
      "source": [
        "spark.stop()"
      ]
    },
    {
      "cell_type": "code",
      "execution_count": null,
      "metadata": {
        "id": "c3MXJJryifgR"
      },
      "outputs": [],
      "source": [
        ""
      ]
    }
  ],
  "metadata": {
    "kernelspec": {
      "display_name": "Python 3 (ipykernel)",
      "language": "python",
      "name": "python3"
    },
    "language_info": {
      "codemirror_mode": {
        "name": "ipython",
        "version": 3
      },
      "file_extension": ".py",
      "mimetype": "text/x-python",
      "name": "python",
      "nbconvert_exporter": "python",
      "pygments_lexer": "ipython3",
      "version": "3.9.7"
    },
    "colab": {
      "name": "DEVOIR_SPARK_2022_Granger_Mathis.ipynb",
      "provenance": []
    }
  },
  "nbformat": 4,
  "nbformat_minor": 0
}